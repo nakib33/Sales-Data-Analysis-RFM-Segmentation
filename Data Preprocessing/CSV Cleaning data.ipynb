{
  "cells": [
    {
      "cell_type": "code",
      "execution_count": null,
      "metadata": {
        "id": "R0OJAZJrkYDZ"
      },
      "outputs": [],
      "source": [
        "import pandas as pd\n",
        "import numpy as np"
      ]
    },
    {
      "cell_type": "code",
      "execution_count": null,
      "metadata": {
        "collapsed": true,
        "id": "sUtq49TZkoPZ"
      },
      "outputs": [],
      "source": [
        "#load file\n",
        "from google.colab import files\n",
        "files.upload()"
      ]
    },
    {
      "source": [
        "# Load your dataset\n",
        "# Replace 'your_dataset.csv' with the actual path to your CSV file\n",
        "# The original encoding 'utf-8' caused a UnicodeDecodeError.\n",
        "# Trying 'latin-1' or 'ISO-8859-1' instead as they commonly include the problematic byte.\n",
        "df = pd.read_csv('data.csv', encoding='latin-1')\n",
        "# If 'latin-1' doesn't work, try 'ISO-8859-1'\n",
        "# df = pd.read_csv('sales_data.csv', encoding='ISO-8859-1')\n",
        "df.head(10)"
      ],
      "cell_type": "code",
      "metadata": {
        "id": "5Mi4wThryxXk"
      },
      "execution_count": null,
      "outputs": []
    },
    {
      "cell_type": "code",
      "source": [
        "df.info()"
      ],
      "metadata": {
        "id": "rPUgsev8u5XR"
      },
      "execution_count": null,
      "outputs": []
    },
    {
      "cell_type": "code",
      "source": [
        "# prompt: CustomerID column now float64 but i need integer can you convert it float to integer\n",
        "\n",
        "import pandas as pd\n",
        "# Convert 'CustomerID' column to integer, coercing errors to NaN\n",
        "df['CustomerID'] = pd.to_numeric(df['CustomerID'], errors='coerce').astype('Int64')\n",
        "\n",
        "# Now check the info again\n",
        "df.info()\n",
        "\n",
        "# Display first 10 rows to see the changes\n",
        "df.head(10)\n"
      ],
      "metadata": {
        "id": "tBlpP1CsvBDJ"
      },
      "execution_count": null,
      "outputs": []
    },
    {
      "cell_type": "code",
      "source": [
        "# prompt: Remove Unnamed: 7 column\n",
        "\n",
        "# Assuming df is already loaded as in your original code\n",
        "if 'Unnamed: 7' in df.columns:\n",
        "  df = df.drop('Unnamed: 7', axis=1)\n",
        "df.head(10)\n"
      ],
      "metadata": {
        "id": "CXVV-hHey0dc"
      },
      "execution_count": null,
      "outputs": []
    },
    {
      "source": [
        "# prompt: InvoiceNo, Quantity, UnitPrice, CustomerID if you found empty cell or null or any unwanted value that remove all row\n",
        "\n",
        "import pandas as pd\n",
        "# Drop rows with null or empty values in specified columns\n",
        "df = df.dropna(subset=['InvoiceNo', 'Quantity', 'UnitPrice', 'CustomerID'])\n",
        "\n",
        "# Remove rows with non-numeric values in 'Quantity' and 'UnitPrice'\n",
        "df = df[pd.to_numeric(df['Quantity'], errors='coerce').notnull()]\n",
        "df = df[pd.to_numeric(df['UnitPrice'], errors='coerce').notnull()]\n",
        "\n",
        "# Convert 'Quantity' and 'UnitPrice' to numeric\n",
        "df['Quantity'] = pd.to_numeric(df['Quantity'])\n",
        "df['UnitPrice'] = pd.to_numeric(df['UnitPrice'])\n",
        "\n",
        "#Further clean up of invoiceNo\n",
        "# Instead of using .str.contains, check if the values can be converted to numeric\n",
        "df = df[pd.to_numeric(df['InvoiceNo'], errors='coerce').notnull()] # Filter out rows where 'InvoiceNo' cannot be converted to numeric\n",
        "df['InvoiceNo'] = pd.to_numeric(df['InvoiceNo']) #Convert to numeric\n",
        "\n",
        "df.shape"
      ],
      "cell_type": "code",
      "metadata": {
        "id": "iJHQwsEKwyrZ"
      },
      "execution_count": null,
      "outputs": []
    },
    {
      "cell_type": "code",
      "source": [
        "import pandas as pd\n",
        "# Iterate through columns and replace empty/null values with the previous value\n",
        "for col in df.columns:\n",
        "    # Use the first non-null value as the initial fill value\n",
        "    fill_value = None\n",
        "    # Reset index to ensure consecutive indices\n",
        "    df = df.reset_index(drop=True)  # This line is added\n",
        "    for i in range(len(df)):\n",
        "        if pd.isnull(df.loc[i, col]) or df.loc[i, col] == '':\n",
        "            if fill_value is not None:\n",
        "                df.loc[i, col] = fill_value\n",
        "        elif fill_value is None:\n",
        "            fill_value = df.loc[i,col]\n",
        "\n",
        "df.head(10)\n",
        "df.shape"
      ],
      "metadata": {
        "id": "V28oeaXkw99S"
      },
      "execution_count": null,
      "outputs": []
    },
    {
      "cell_type": "code",
      "source": [
        "# Rename the InvoiceDate column to Timedate\n",
        "df.rename(columns={'InvoiceDate': 'Timedate'}, inplace=True)\n",
        "\n",
        "df.head(10)\n"
      ],
      "metadata": {
        "id": "9o5nSjKLzGy0"
      },
      "execution_count": null,
      "outputs": []
    },
    {
      "source": [
        "# Create a new InvoiceDate column with the date formatted as %Y-%m-%d\n",
        "df['InvoiceDate'] = pd.to_datetime(df['Timedate'], format='%m/%d/%Y %H:%M', errors='coerce').dt.strftime('%Y-%m-%d')"
      ],
      "cell_type": "code",
      "metadata": {
        "id": "b52hHRX6zR7z"
      },
      "execution_count": null,
      "outputs": []
    },
    {
      "cell_type": "code",
      "source": [
        "df.shape"
      ],
      "metadata": {
        "id": "u3YB3bmszUms"
      },
      "execution_count": null,
      "outputs": []
    },
    {
      "cell_type": "code",
      "source": [
        "# Display the cleaned DataFrame\n",
        "df.head()"
      ],
      "metadata": {
        "id": "1aMfZedWzXsM"
      },
      "execution_count": null,
      "outputs": []
    },
    {
      "cell_type": "code",
      "source": [
        "# prompt: In stockcode we need 5 numbers but some cell if u see suppose 0 row its 85123A. here we see extra A. now remove this extra character\n",
        "\n",
        "# Assuming 'StockCode' column exists and contains the problematic values\n",
        "df['StockCode'] = df['StockCode'].astype(str).str.replace(r'[^0-9]', '', regex=True)\n",
        "df['StockCode'] = df['StockCode'].str.zfill(5)\n",
        "df.head(20)\n"
      ],
      "metadata": {
        "id": "CTqbBxlMzn0M"
      },
      "execution_count": null,
      "outputs": []
    },
    {
      "cell_type": "code",
      "source": [
        "# prompt: write code download all data in csv format\n",
        "\n",
        "import pandas as pd\n",
        "from google.colab import files\n",
        "\n",
        "# Assuming df is already loaded and processed as in the previous code\n",
        "\n",
        "# Convert the DataFrame to CSV and download it\n",
        "df.to_csv('cleaned_sales_data.csv', index=False)\n",
        "files.download('cleaned_sales_data.csv')\n"
      ],
      "metadata": {
        "id": "RxZsIBYo0Awc"
      },
      "execution_count": null,
      "outputs": []
    }
  ],
  "metadata": {
    "colab": {
      "provenance": []
    },
    "kernelspec": {
      "display_name": "Python 3",
      "name": "python3"
    },
    "language_info": {
      "name": "python"
    }
  },
  "nbformat": 4,
  "nbformat_minor": 0
}